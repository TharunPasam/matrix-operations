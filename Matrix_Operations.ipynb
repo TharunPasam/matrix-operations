{
  "nbformat": 4,
  "nbformat_minor": 0,
  "metadata": {
    "colab": {
      "provenance": []
    },
    "kernelspec": {
      "name": "python3",
      "display_name": "Python 3"
    },
    "language_info": {
      "name": "python"
    }
  },
  "cells": [
    {
      "cell_type": "code",
      "execution_count": 1,
      "metadata": {
        "colab": {
          "base_uri": "https://localhost:8080/"
        },
        "id": "GHEXmI5rtMbg",
        "outputId": "cdc559c3-e5b7-47b3-a824-6d0b96b3cb28"
      },
      "outputs": [
        {
          "output_type": "stream",
          "name": "stdout",
          "text": [
            "2x2 matrix :\n",
            " [[1 2]\n",
            " [3 4]]\n",
            "3x3 matrix :\n",
            " [[6 1 4]\n",
            " [3 4 5]\n",
            " [2 9 5]]\n"
          ]
        }
      ],
      "source": [
        "import numpy as np\n",
        "\n",
        "A = np.array ([[1,2], [3,4]])\n",
        "print(\"2x2 matrix :\\n\", A)\n",
        "\n",
        "B = np.array ([[6,1,4], [3, 4, 5], [2, 9, 5]])\n",
        "print(\"3x3 matrix :\\n\", B)"
      ]
    },
    {
      "cell_type": "code",
      "source": [
        "import numpy as np\n",
        "x = np.array ([[2,5], [ 3, 8]])\n",
        "y = np.array ([[1, 4], [6, 9]])\n",
        "\n",
        "#dotproduct of two matrices\n",
        "z = np.dot(x, y)\n",
        "print(\"xy :\\n\", z)"
      ],
      "metadata": {
        "colab": {
          "base_uri": "https://localhost:8080/"
        },
        "id": "GDKETs-CtSTb",
        "outputId": "ecfa9898-5a19-4537-b7d6-533ed9aac32b"
      },
      "execution_count": 2,
      "outputs": [
        {
          "output_type": "stream",
          "name": "stdout",
          "text": [
            "xy :\n",
            " [[32 53]\n",
            " [51 84]]\n"
          ]
        }
      ]
    },
    {
      "cell_type": "code",
      "source": [
        "import numpy as np\n",
        "c = np.array([[1, 3, 5, 7], [2, 4, 6, 8]])\n",
        "\n",
        "#Transpose of the matrix\n",
        "d= np.transpose(c)\n",
        "\n",
        "print(\"Transpose of c :/n\", d)"
      ],
      "metadata": {
        "colab": {
          "base_uri": "https://localhost:8080/"
        },
        "id": "OWcFezIUthpK",
        "outputId": "812078b8-bf70-40bb-a137-d73b3f4fee1c"
      },
      "execution_count": 3,
      "outputs": [
        {
          "output_type": "stream",
          "name": "stdout",
          "text": [
            "Transpose of c :/n [[1 2]\n",
            " [3 4]\n",
            " [5 6]\n",
            " [7 8]]\n"
          ]
        }
      ]
    },
    {
      "cell_type": "code",
      "source": [
        "import numpy as np\n",
        "a = np.array([[2, 5, 7], [3, 6, 9], [1, 8, 4]])\n",
        "\n",
        "#Inverse of the matrix\n",
        "v = np.linalg.inv(a)\n",
        "print(\"Inverse of matrix a : \\n\", v)"
      ],
      "metadata": {
        "colab": {
          "base_uri": "https://localhost:8080/"
        },
        "id": "L6-5fwF9tnST",
        "outputId": "01399d70-d894-4af6-d1cd-80f89c4c11e6"
      },
      "execution_count": 4,
      "outputs": [
        {
          "output_type": "stream",
          "name": "stdout",
          "text": [
            "Inverse of matrix a : \n",
            " [[-3.2         2.4         0.2       ]\n",
            " [-0.2         0.06666667  0.2       ]\n",
            " [ 1.2        -0.73333333 -0.2       ]]\n"
          ]
        }
      ]
    },
    {
      "cell_type": "code",
      "source": [
        "import numpy as np\n",
        "b = np.array([[11, 23, 45], [13, 24, 35], [24, 35, 25]])\n",
        "\n",
        "#Determinant of the matrix\n",
        "d = np.linalg.det(b)\n",
        "print(\"Determinant of b :\\n\", d)"
      ],
      "metadata": {
        "colab": {
          "base_uri": "https://localhost:8080/"
        },
        "id": "ing4BdtEtrv-",
        "outputId": "3cd0a1c5-70bc-4919-ac92-b64f7196d2e3"
      },
      "execution_count": 5,
      "outputs": [
        {
          "output_type": "stream",
          "name": "stdout",
          "text": [
            "Determinant of b :\n",
            " -474.9999999999992\n"
          ]
        }
      ]
    },
    {
      "cell_type": "code",
      "source": [
        "import numpy as np\n",
        "from numpy.linalg import eig\n",
        "\n",
        "a = np.array([[1, 3, 5], [2, 4, 6], [7, 0, 9]])\n",
        "\n",
        "\n",
        "#Eigen value and vector of the matrix\n",
        "c,d = eig(a)\n",
        "print(\"E-value:\", c)\n",
        "print(\"E-vector:\", d)\n",
        "\n",
        "\n"
      ],
      "metadata": {
        "colab": {
          "base_uri": "https://localhost:8080/"
        },
        "id": "SQ8ARlIbtw-6",
        "outputId": "fb37191d-4464-4be3-a1e4-7a5455147dfc"
      },
      "execution_count": 6,
      "outputs": [
        {
          "output_type": "stream",
          "name": "stdout",
          "text": [
            "E-value: [13.21110255 -1.21110255  2.        ]\n",
            "E-vector: [[ 0.42823805  0.78220784 -0.40824829]\n",
            " [ 0.55667235  0.31719546 -0.81649658]\n",
            " [ 0.71184834 -0.53622563  0.40824829]]\n"
          ]
        }
      ]
    },
    {
      "cell_type": "code",
      "source": [],
      "metadata": {
        "id": "apv89VISt8PT"
      },
      "execution_count": null,
      "outputs": []
    }
  ]
}